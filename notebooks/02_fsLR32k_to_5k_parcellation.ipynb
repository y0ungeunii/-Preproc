{
 "cells": [
  {
   "cell_type": "code",
   "execution_count": 2,
   "id": "88dab70b-959f-4c68-9a47-5dcf4d81f707",
   "metadata": {},
   "outputs": [],
   "source": [
    "import pandas as pd\n",
    "import numpy as np\n",
    "import enigmatoolbox\n",
    "import nibabel as nb\n",
    "import os\n",
    "from nibabel.gifti import GiftiDataArray\n",
    "\n",
    "micapipe_surf= '/data_/mica1/01_programs/micapipe-v0.2.0/parcellations'\n",
    "dir = '/data/mica1/03_projects/youngeun/venv/lib/python3.8/site-packages/enigmatoolbox-2.0.3-py3.8.egg/enigmatoolbox/datasets/parcellations/'\n",
    "data = pd.read_csv('/data/mica1/03_projects/youngeun/venv/lib/python3.8/site-packages/enigmatoolbox-2.0.3-py3.8.egg/enigmatoolbox/datasets/parcellations/aparc_conte69.csv')\n",
    "\n",
    "array = np.array(data)"
   ]
  },
  {
   "cell_type": "markdown",
   "id": "ee901481-5a6a-4b7d-99a6-6b2daf717043",
   "metadata": {},
   "source": [
    "## Downsample DK atlas (fsLR32k --> fsLR5k)"
   ]
  },
  {
   "cell_type": "code",
   "execution_count": 55,
   "id": "cb66f007-d930-4071-8526-001e8dec5667",
   "metadata": {},
   "outputs": [],
   "source": [
    "#fsLR_32k_L =  nb.load(micapipe_surf + '/aparc-aseg_conte69_lh.label.gii').darrays[0].data\n",
    "#fsLR_32k_R =  nb.load(micapipe_surf + '/aparc-aseg_conte69_rh.label.gii').darrays[0].data\n",
    "fsLR_32k_parc = pd.read_csv(micapipe_surf + '/aparc_conte69.csv', header=None)\n",
    "fsLR_32k_array = np.array(fsLR_32k_parc)"
   ]
  },
  {
   "cell_type": "code",
   "execution_count": 20,
   "id": "55921f3b-bbf3-44de-9bcd-45ad94cb0324",
   "metadata": {},
   "outputs": [],
   "source": [
    "left = fsLR_32k_parc[:len(fsLR_32k_parc)//2]\n",
    "right = fsLR_32k_parc[len(fsLR_32k_parc)//2:]"
   ]
  },
  {
   "cell_type": "code",
   "execution_count": 21,
   "id": "36de6b53-b4ee-445e-a262-06ea16aa4993",
   "metadata": {},
   "outputs": [],
   "source": [
    "round_fsLR_32k_L = np.round(left).astype(int)\n",
    "round_fsLR_32k_R = np.round(right).astype(int)"
   ]
  },
  {
   "cell_type": "code",
   "execution_count": 22,
   "id": "003ad616-6236-4942-a506-75c732e2f47a",
   "metadata": {},
   "outputs": [],
   "source": [
    "imgL = nb.gifti.GiftiImage()\n",
    "imgR = nb.gifti.GiftiImage()\n",
    "img = nb.gifti.GiftiImage()\n",
    "\n",
    "dataL = nb.gifti.GiftiDataArray(round_fsLR_32k_L.astype(np.int32))\n",
    "dataR = nb.gifti.GiftiDataArray(round_fsLR_32k_R.astype(np.int32))\n",
    "data = nb.gifti.GiftiDataArray(fsLR_32k_array.astype(np.int32))\n",
    "\n",
    "imgL.add_gifti_data_array(dataL)\n",
    "imgR.add_gifti_data_array(dataR)\n",
    "img.add_gifti_data_array(data)"
   ]
  },
  {
   "cell_type": "code",
   "execution_count": 23,
   "id": "a619784f-b8ff-4f3f-a870-8e0da4983a7a",
   "metadata": {},
   "outputs": [],
   "source": [
    "nb.save(imgL, '/data/mica1/03_projects/youngeun/parc/aparc-aseg_conte69_lh.shape.gii')\n",
    "nb.save(imgR, '/data/mica1/03_projects/youngeun/parc/aparc-aseg_conte69_rh.shape.gii')\n",
    "nb.save(img, '/data/mica1/03_projects/youngeun/parc/aparc-aseg_conte69.shape.gii')"
   ]
  },
  {
   "cell_type": "markdown",
   "id": "0417cd42-e063-49d6-9da3-af5bce059252",
   "metadata": {},
   "source": [
    "## Downsample schaefer-400 atlas (fsLR32k --> fsLR5k)"
   ]
  },
  {
   "cell_type": "code",
   "execution_count": 8,
   "id": "3def7112-688e-402b-88cd-3b00e8fcb83d",
   "metadata": {},
   "outputs": [],
   "source": [
    "fsLR_32k_parc = pd.read_csv(micapipe_surf + '/schaefer-400_conte69.csv', header=None)\n",
    "fsLR_32k_array = np.array(fsLR_32k_parc)"
   ]
  },
  {
   "cell_type": "code",
   "execution_count": 9,
   "id": "1fe2f3cc-9c2a-48d0-9b24-35c0ba8cfc1d",
   "metadata": {},
   "outputs": [],
   "source": [
    "left = fsLR_32k_parc[:len(fsLR_32k_parc)//2]\n",
    "right = fsLR_32k_parc[len(fsLR_32k_parc)//2:]"
   ]
  },
  {
   "cell_type": "code",
   "execution_count": 10,
   "id": "4a0b0437-4d07-4e93-8ab8-a07c3e3e1952",
   "metadata": {},
   "outputs": [],
   "source": [
    "round_fsLR_32k_L = np.round(left).astype(int)\n",
    "round_fsLR_32k_R = np.round(right).astype(int)"
   ]
  },
  {
   "cell_type": "code",
   "execution_count": 11,
   "id": "c2960bf3-f59e-4384-abd5-a494d7221b44",
   "metadata": {},
   "outputs": [],
   "source": [
    "imgL = nb.gifti.GiftiImage()\n",
    "imgR = nb.gifti.GiftiImage()\n",
    "img = nb.gifti.GiftiImage()\n",
    "\n",
    "dataL = nb.gifti.GiftiDataArray(round_fsLR_32k_L.astype(np.int32))\n",
    "dataR = nb.gifti.GiftiDataArray(round_fsLR_32k_R.astype(np.int32))\n",
    "data = nb.gifti.GiftiDataArray(fsLR_32k_array.astype(np.int32))\n",
    "\n",
    "imgL.add_gifti_data_array(dataL)\n",
    "imgR.add_gifti_data_array(dataR)\n",
    "img.add_gifti_data_array(data)"
   ]
  },
  {
   "cell_type": "code",
   "execution_count": 12,
   "id": "f8814186-1a81-40d1-ab54-89826d0b1495",
   "metadata": {},
   "outputs": [],
   "source": [
    "nb.save(imgL, '/data/mica1/03_projects/youngeun/parc/schaefer-400_conte69_lh.shape.gii')\n",
    "nb.save(imgR, '/data/mica1/03_projects/youngeun/parc/schaefer-400_conte69_rh.shape.gii')\n",
    "nb.save(img, '/data/mica1/03_projects/youngeun/parc/schaefer-400_conte69.shape.gii')"
   ]
  },
  {
   "cell_type": "code",
   "execution_count": null,
   "id": "82759950-0461-447c-bc6f-72f395d920ad",
   "metadata": {},
   "outputs": [],
   "source": [
    "wb_command -metric-resample aparc-schaefer-400_conte69_lh.shape.gii \n",
    "/data_/mica1/01_programs/micapipe-v0.2.0/surfaces/fsLR-32k.L.sphere.surf.gii \n",
    "/data_/mica1/01_programs/micapipe-v0.2.0/surfaces/fsLR-5k.L.sphere.surf.gii \n",
    "BARYCENTRIC aparc-schaefer-400_fsLR5k_lh.shape.gii"
   ]
  },
  {
   "cell_type": "code",
   "execution_count": 14,
   "id": "99133da8-af88-4dc6-9dc4-9d760ceae26d",
   "metadata": {},
   "outputs": [],
   "source": [
    "fsLR_5k_L =  nb.load('/data/mica1/03_projects/youngeun/parc/schaefer-400_fsLR5k_lh.shape.gii').darrays[0].data\n",
    "fsLR_5k_R =  nb.load('/data/mica1/03_projects/youngeun/parc/schaefer-400_fsLR5k_rh.shape.gii').darrays[0].data"
   ]
  },
  {
   "cell_type": "code",
   "execution_count": 15,
   "id": "4de85f52-22af-4a7f-a77f-431b38002494",
   "metadata": {},
   "outputs": [],
   "source": [
    "round_fsLR_5k_L = np.round(fsLR_5k_L).astype(int)\n",
    "round_fsLR_5k_R = np.round(fsLR_5k_R).astype(int)"
   ]
  },
  {
   "cell_type": "code",
   "execution_count": 16,
   "id": "feb13979-6150-4be5-acca-7e9cb3eb6808",
   "metadata": {},
   "outputs": [],
   "source": [
    "fsLR_5k = np.concatenate((round_fsLR_5k_L, round_fsLR_5k_R), axis=0)"
   ]
  },
  {
   "cell_type": "code",
   "execution_count": 18,
   "id": "bff7cb36-bdb4-432e-bc10-d01ab6b68221",
   "metadata": {},
   "outputs": [],
   "source": [
    "np.savetxt('/data/mica1/03_projects/youngeun/parc/schaefer-400_fsLR5k.csv', fsLR_5k, delimiter=',')"
   ]
  },
  {
   "cell_type": "markdown",
   "id": "a8d56b8b-81d9-44f5-b98a-81245f6fd722",
   "metadata": {},
   "source": [
    "### fsLR32k --> fsLR5k"
   ]
  },
  {
   "cell_type": "code",
   "execution_count": 19,
   "id": "3f12e9dd-42db-4297-a2dc-15987420004d",
   "metadata": {},
   "outputs": [],
   "source": [
    "fsLR_5k_L =  nb.load('/data/mica1/03_projects/youngeun/parc/aparc-aseg_fsLR5k.lh.shape.gii').darrays[0].data\n",
    "fsLR_5k_R =  nb.load('/data/mica1/03_projects/youngeun/parc/aparc-aseg_fsLR5k.rh.shape.gii').darrays[0].data"
   ]
  },
  {
   "cell_type": "code",
   "execution_count": 20,
   "id": "3d4688db-013f-4f2a-a762-90906fcda859",
   "metadata": {},
   "outputs": [],
   "source": [
    "round_fsLR_5k_L = np.round(fsLR_5k_L).astype(int)\n",
    "round_fsLR_5k_R = np.round(fsLR_5k_R).astype(int)"
   ]
  },
  {
   "cell_type": "code",
   "execution_count": 21,
   "id": "e3b6ebd7-f77a-45a1-813a-8e7afc3f718c",
   "metadata": {},
   "outputs": [],
   "source": [
    "np.savetxt('/data/mica1/03_projects/youngeun/parc/aparc_fsLR5k.L.csv', fsLR_5k_L, delimiter=',')\n",
    "np.savetxt('/data/mica1/03_projects/youngeun/parc/aparc_fsLR5k.R.csv', fsLR_5k_R, delimiter=',')"
   ]
  },
  {
   "cell_type": "code",
   "execution_count": 22,
   "id": "06ef1891-813d-4be3-a370-1353b2aa12a8",
   "metadata": {},
   "outputs": [],
   "source": [
    "fsLR_5k = np.concatenate((round_fsLR_5k_L, round_fsLR_5k_R), axis=0)"
   ]
  },
  {
   "cell_type": "code",
   "execution_count": 23,
   "id": "0072072b-b13f-4b88-93b3-9396a396d4df",
   "metadata": {},
   "outputs": [],
   "source": [
    "np.savetxt('/data/mica1/03_projects/youngeun/parc/aparc_fsLR5k.csv', fsLR_5k, delimiter=',')"
   ]
  },
  {
   "cell_type": "code",
   "execution_count": 59,
   "id": "f4b36b85-ee92-42f7-aca5-55e8393fc165",
   "metadata": {},
   "outputs": [
    {
     "data": {
      "text/plain": [
       "array([ 0,  1,  2,  3,  4,  5,  6,  7,  8,  9, 10, 11, 12, 13, 14, 15, 16,\n",
       "       17, 18, 19, 20, 21, 22, 23, 24, 25, 26, 27, 28, 29, 30, 31, 32, 33,\n",
       "       34, 35, 36, 37, 38, 39, 40, 41, 42, 43, 44, 45, 46, 47, 48, 49, 50,\n",
       "       51, 52, 53, 54, 55, 56, 57, 58, 59, 60, 61, 62, 63, 64, 65, 66, 67,\n",
       "       68, 69, 70])"
      ]
     },
     "execution_count": 59,
     "metadata": {},
     "output_type": "execute_result"
    }
   ],
   "source": [
    "round = np.round(fsLR_32k_array).astype(int)\n",
    "np.unique(round)"
   ]
  },
  {
   "cell_type": "markdown",
   "id": "5630020e-9582-4848-97c0-82f5cbd02d2a",
   "metadata": {},
   "source": [
    "## Downsample Von Economo Class (fsaverage5 --> fsLR5k)"
   ]
  },
  {
   "cell_type": "code",
   "execution_count": 57,
   "id": "950ac1e2-aeab-498f-a8a7-c863313a6b86",
   "metadata": {},
   "outputs": [],
   "source": [
    "from scipy.io import loadmat\n",
    "\n",
    "# Load the .mat file\n",
    "mat_data = loadmat('/data/mica1/03_projects/jessica/micasoft/parcellations/fsaverage5/economo_classes_seidlitz_fsa5.mat')\n",
    "eco = mat_data['neconomo_class']"
   ]
  },
  {
   "cell_type": "code",
   "execution_count": 41,
   "id": "1e637791-e77d-43b9-85aa-e608784c2ffe",
   "metadata": {},
   "outputs": [
    {
     "data": {
      "text/plain": [
       "array([0, 1, 2, 3, 4, 5, 6, 7], dtype=uint8)"
      ]
     },
     "execution_count": 41,
     "metadata": {},
     "output_type": "execute_result"
    }
   ],
   "source": [
    "np.unique(eco)"
   ]
  },
  {
   "cell_type": "code",
   "execution_count": 58,
   "id": "0bf995a9-b9b5-44a3-a9e6-f7245231526a",
   "metadata": {},
   "outputs": [],
   "source": [
    "left = eco.T[:len(eco.T)//2]\n",
    "right = eco.T[len(eco.T)//2:]"
   ]
  },
  {
   "cell_type": "code",
   "execution_count": 59,
   "id": "2bf68c40-fea0-4c03-a4cb-0903449208fc",
   "metadata": {},
   "outputs": [],
   "source": [
    "imgL = nb.gifti.GiftiImage()\n",
    "imgR = nb.gifti.GiftiImage()\n",
    "dataL = nb.gifti.GiftiDataArray(left)\n",
    "dataR = nb.gifti.GiftiDataArray(right)\n",
    "imgL.add_gifti_data_array(dataL)\n",
    "imgR.add_gifti_data_array(dataR)\n",
    "\n",
    "nb.save(imgL, '/data/mica1/03_projects/youngeun/parc/economo_fsa5.L.shape.gii')\n",
    "nb.save(imgR, '/data/mica1/03_projects/youngeun/parc/economo_fsa5.R.shape.gii')"
   ]
  },
  {
   "cell_type": "code",
   "execution_count": 60,
   "id": "5a574fd5-ef5e-40b6-80ca-b869f87709b4",
   "metadata": {},
   "outputs": [],
   "source": [
    "fsLR_5k_L =  nb.load('/data/mica1/03_projects/youngeun/parc/economo_fsLR5k.L.shape.gii').darrays[0].data\n",
    "fsLR_5k_R =  nb.load('/data/mica1/03_projects/youngeun/parc/economo_fsLR5k.R.shape.gii').darrays[0].data"
   ]
  },
  {
   "cell_type": "code",
   "execution_count": 61,
   "id": "e7fb7453-0e76-431f-bbc8-8deecccd5bea",
   "metadata": {},
   "outputs": [],
   "source": [
    "round_fsLR_5k_L = np.round(fsLR_5k_L).astype(int)\n",
    "round_fsLR_5k_R = np.round(fsLR_5k_R).astype(int)"
   ]
  },
  {
   "cell_type": "code",
   "execution_count": 62,
   "id": "78e32bef-7aa7-481a-9656-1b386aa26b07",
   "metadata": {},
   "outputs": [],
   "source": [
    "fsLR_5k = np.concatenate((round_fsLR_5k_L, round_fsLR_5k_R), axis=0)"
   ]
  },
  {
   "cell_type": "code",
   "execution_count": 64,
   "id": "9293a816-c973-4c51-9703-b60f5f68fd6a",
   "metadata": {},
   "outputs": [],
   "source": [
    "np.savetxt('/data/mica1/03_projects/youngeun/parc/economo_fsLR5k.csv', fsLR_5k, delimiter=',')"
   ]
  },
  {
   "cell_type": "code",
   "execution_count": null,
   "id": "83741bb4-8ea5-4b37-ba9c-421618d3e4f3",
   "metadata": {},
   "outputs": [],
   "source": []
  }
 ],
 "metadata": {
  "kernelspec": {
   "display_name": "Python 3 (ipykernel)",
   "language": "python",
   "name": "python3"
  },
  "language_info": {
   "codemirror_mode": {
    "name": "ipython",
    "version": 3
   },
   "file_extension": ".py",
   "mimetype": "text/x-python",
   "name": "python",
   "nbconvert_exporter": "python",
   "pygments_lexer": "ipython3",
   "version": "3.8.10"
  }
 },
 "nbformat": 4,
 "nbformat_minor": 5
}
