{
 "cells": [
  {
   "cell_type": "code",
   "execution_count": 4,
   "id": "15458d0a-861d-4a43-bd74-28a0f83b9c2b",
   "metadata": {},
   "outputs": [],
   "source": [
    "import nibabel as nb\n",
    "import numpy as np"
   ]
  },
  {
   "cell_type": "code",
   "execution_count": 12,
   "id": "5f202134-21ec-461b-967b-2fc33c2fe121",
   "metadata": {},
   "outputs": [],
   "source": [
    "AHEAD_lh_wm = nb.load('/host/percy/local_raid/youngeun/sub-AHEAD/sub-122017/31145353_Ahead_brain_122017_cruise-left-wm-surface.nii.gz')\n",
    "AHEAD_rh_wm = nb.load('/host/percy/local_raid/youngeun/sub-AHEAD/sub-122017/31145341_Ahead_brain_122017_cruise-right-wm-surface.nii.gz')\n",
    "\n",
    "dataL = AHEAD_lh_wm.get_fdata()\n",
    "dataR = AHEAD_rh_wm.get_fdata()\n",
    "\n",
    "dataL = dataL.astype('float32')\n",
    "dataR = dataR.astype('float32')"
   ]
  },
  {
   "cell_type": "code",
   "execution_count": 17,
   "id": "d77f613e-2c04-4d51-8d95-db082d45a7df",
   "metadata": {},
   "outputs": [
    {
     "data": {
      "text/plain": [
       "(933, 874, 860)"
      ]
     },
     "execution_count": 17,
     "metadata": {},
     "output_type": "execute_result"
    }
   ],
   "source": [
    "dataL.shape"
   ]
  },
  {
   "cell_type": "code",
   "execution_count": 13,
   "id": "71e181c4-0ff4-494d-8b8c-d3de97670691",
   "metadata": {},
   "outputs": [],
   "source": [
    "imgL = nb.gifti.GiftiImage()\n",
    "imgR = nb.gifti.GiftiImage()\n",
    "\n",
    "data_L = nb.gifti.GiftiDataArray(dataL)\n",
    "data_R = nb.gifti.GiftiDataArray(dataR)\n",
    "\n",
    "imgL.add_gifti_data_array(data_L)\n",
    "imgR.add_gifti_data_array(data_R)"
   ]
  },
  {
   "cell_type": "code",
   "execution_count": null,
   "id": "9edf63b9-de59-4112-8185-e7af972ac3d9",
   "metadata": {},
   "outputs": [],
   "source": []
  },
  {
   "cell_type": "code",
   "execution_count": 23,
   "id": "22d42326-2852-4ae5-b390-613d1a6585f8",
   "metadata": {},
   "outputs": [],
   "source": [
    "img = nb.load('/host/percy/local_raid/youngeun/sub-AHEAD/sub-122017/Ahead_brain_122017_Bieloschowsky-interpolated.nii.gz')\n",
    "data = img.get_fdata()\n",
    "data = data.astype('float32')"
   ]
  },
  {
   "cell_type": "code",
   "execution_count": 24,
   "id": "198c259d-108d-4544-9e63-a71ff6f4681f",
   "metadata": {},
   "outputs": [],
   "source": [
    "data[np.isnan(data)] = 0"
   ]
  },
  {
   "cell_type": "code",
   "execution_count": 22,
   "id": "3d00f254-15e3-46a1-b1e0-bc61ddf18b2c",
   "metadata": {},
   "outputs": [
    {
     "data": {
      "text/plain": [
       "<nibabel.nifti1.Nifti1Image at 0x7f83b8abb5e0>"
      ]
     },
     "execution_count": 22,
     "metadata": {},
     "output_type": "execute_result"
    }
   ],
   "source": [
    "img"
   ]
  }
 ],
 "metadata": {
  "kernelspec": {
   "display_name": "Python 3 (ipykernel)",
   "language": "python",
   "name": "python3"
  },
  "language_info": {
   "codemirror_mode": {
    "name": "ipython",
    "version": 3
   },
   "file_extension": ".py",
   "mimetype": "text/x-python",
   "name": "python",
   "nbconvert_exporter": "python",
   "pygments_lexer": "ipython3",
   "version": "3.8.10"
  }
 },
 "nbformat": 4,
 "nbformat_minor": 5
}
